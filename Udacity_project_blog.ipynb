{
 "cells": [
  {
   "cell_type": "code",
   "execution_count": 2,
   "metadata": {},
   "outputs": [],
   "source": [
    "# import libraries\n",
    "import numpy as np\n",
    "import pandas as pd\n",
    "import matplotlib.pyplot as plt\n",
    "import seaborn as sns\n",
    "from sklearn.model_selection import train_test_split\n",
    "from sklearn.metrics import r2_score, mean_squared_error, median_absolute_error\n",
    "from sklearn.ensemble import RandomForestRegressor\n",
    "from sklearn.linear_model import LinearRegression\n"
   ]
  },
  {
   "cell_type": "markdown",
   "metadata": {},
   "source": [
    "Download and use the FIFA 19 Complete Player Dataset from Kaggle. This data set is about every player information present in the EA Sports Video Game, FIFA 2019. For each player, there is data with respect to different features being of nature personal, performance and preferences"
   ]
  },
  {
   "cell_type": "code",
   "execution_count": 5,
   "metadata": {},
   "outputs": [
    {
     "data": {
      "text/html": [
       "<div>\n",
       "<style>\n",
       "    .dataframe thead tr:only-child th {\n",
       "        text-align: right;\n",
       "    }\n",
       "\n",
       "    .dataframe thead th {\n",
       "        text-align: left;\n",
       "    }\n",
       "\n",
       "    .dataframe tbody tr th {\n",
       "        vertical-align: top;\n",
       "    }\n",
       "</style>\n",
       "<table border=\"1\" class=\"dataframe\">\n",
       "  <thead>\n",
       "    <tr style=\"text-align: right;\">\n",
       "      <th></th>\n",
       "      <th>Unnamed: 0</th>\n",
       "      <th>Name</th>\n",
       "      <th>Age</th>\n",
       "      <th>Photo</th>\n",
       "      <th>Nationality</th>\n",
       "      <th>Flag</th>\n",
       "      <th>Overall</th>\n",
       "      <th>Potential</th>\n",
       "      <th>Club</th>\n",
       "      <th>Club Logo</th>\n",
       "      <th>...</th>\n",
       "      <th>RB</th>\n",
       "      <th>RCB</th>\n",
       "      <th>RCM</th>\n",
       "      <th>RDM</th>\n",
       "      <th>RF</th>\n",
       "      <th>RM</th>\n",
       "      <th>RS</th>\n",
       "      <th>RW</th>\n",
       "      <th>RWB</th>\n",
       "      <th>ST</th>\n",
       "    </tr>\n",
       "  </thead>\n",
       "  <tbody>\n",
       "    <tr>\n",
       "      <th>0</th>\n",
       "      <td>0</td>\n",
       "      <td>Cristiano Ronaldo</td>\n",
       "      <td>32</td>\n",
       "      <td>https://cdn.sofifa.org/48/18/players/20801.png</td>\n",
       "      <td>Portugal</td>\n",
       "      <td>https://cdn.sofifa.org/flags/38.png</td>\n",
       "      <td>94</td>\n",
       "      <td>94</td>\n",
       "      <td>Real Madrid CF</td>\n",
       "      <td>https://cdn.sofifa.org/24/18/teams/243.png</td>\n",
       "      <td>...</td>\n",
       "      <td>61.0</td>\n",
       "      <td>53.0</td>\n",
       "      <td>82.0</td>\n",
       "      <td>62.0</td>\n",
       "      <td>91.0</td>\n",
       "      <td>89.0</td>\n",
       "      <td>92.0</td>\n",
       "      <td>91.0</td>\n",
       "      <td>66.0</td>\n",
       "      <td>92.0</td>\n",
       "    </tr>\n",
       "    <tr>\n",
       "      <th>1</th>\n",
       "      <td>1</td>\n",
       "      <td>L. Messi</td>\n",
       "      <td>30</td>\n",
       "      <td>https://cdn.sofifa.org/48/18/players/158023.png</td>\n",
       "      <td>Argentina</td>\n",
       "      <td>https://cdn.sofifa.org/flags/52.png</td>\n",
       "      <td>93</td>\n",
       "      <td>93</td>\n",
       "      <td>FC Barcelona</td>\n",
       "      <td>https://cdn.sofifa.org/24/18/teams/241.png</td>\n",
       "      <td>...</td>\n",
       "      <td>57.0</td>\n",
       "      <td>45.0</td>\n",
       "      <td>84.0</td>\n",
       "      <td>59.0</td>\n",
       "      <td>92.0</td>\n",
       "      <td>90.0</td>\n",
       "      <td>88.0</td>\n",
       "      <td>91.0</td>\n",
       "      <td>62.0</td>\n",
       "      <td>88.0</td>\n",
       "    </tr>\n",
       "    <tr>\n",
       "      <th>2</th>\n",
       "      <td>2</td>\n",
       "      <td>Neymar</td>\n",
       "      <td>25</td>\n",
       "      <td>https://cdn.sofifa.org/48/18/players/190871.png</td>\n",
       "      <td>Brazil</td>\n",
       "      <td>https://cdn.sofifa.org/flags/54.png</td>\n",
       "      <td>92</td>\n",
       "      <td>94</td>\n",
       "      <td>Paris Saint-Germain</td>\n",
       "      <td>https://cdn.sofifa.org/24/18/teams/73.png</td>\n",
       "      <td>...</td>\n",
       "      <td>59.0</td>\n",
       "      <td>46.0</td>\n",
       "      <td>79.0</td>\n",
       "      <td>59.0</td>\n",
       "      <td>88.0</td>\n",
       "      <td>87.0</td>\n",
       "      <td>84.0</td>\n",
       "      <td>89.0</td>\n",
       "      <td>64.0</td>\n",
       "      <td>84.0</td>\n",
       "    </tr>\n",
       "    <tr>\n",
       "      <th>3</th>\n",
       "      <td>3</td>\n",
       "      <td>L. Suárez</td>\n",
       "      <td>30</td>\n",
       "      <td>https://cdn.sofifa.org/48/18/players/176580.png</td>\n",
       "      <td>Uruguay</td>\n",
       "      <td>https://cdn.sofifa.org/flags/60.png</td>\n",
       "      <td>92</td>\n",
       "      <td>92</td>\n",
       "      <td>FC Barcelona</td>\n",
       "      <td>https://cdn.sofifa.org/24/18/teams/241.png</td>\n",
       "      <td>...</td>\n",
       "      <td>64.0</td>\n",
       "      <td>58.0</td>\n",
       "      <td>80.0</td>\n",
       "      <td>65.0</td>\n",
       "      <td>88.0</td>\n",
       "      <td>85.0</td>\n",
       "      <td>88.0</td>\n",
       "      <td>87.0</td>\n",
       "      <td>68.0</td>\n",
       "      <td>88.0</td>\n",
       "    </tr>\n",
       "    <tr>\n",
       "      <th>4</th>\n",
       "      <td>4</td>\n",
       "      <td>M. Neuer</td>\n",
       "      <td>31</td>\n",
       "      <td>https://cdn.sofifa.org/48/18/players/167495.png</td>\n",
       "      <td>Germany</td>\n",
       "      <td>https://cdn.sofifa.org/flags/21.png</td>\n",
       "      <td>92</td>\n",
       "      <td>92</td>\n",
       "      <td>FC Bayern Munich</td>\n",
       "      <td>https://cdn.sofifa.org/24/18/teams/21.png</td>\n",
       "      <td>...</td>\n",
       "      <td>NaN</td>\n",
       "      <td>NaN</td>\n",
       "      <td>NaN</td>\n",
       "      <td>NaN</td>\n",
       "      <td>NaN</td>\n",
       "      <td>NaN</td>\n",
       "      <td>NaN</td>\n",
       "      <td>NaN</td>\n",
       "      <td>NaN</td>\n",
       "      <td>NaN</td>\n",
       "    </tr>\n",
       "  </tbody>\n",
       "</table>\n",
       "<p>5 rows × 75 columns</p>\n",
       "</div>"
      ],
      "text/plain": [
       "   Unnamed: 0               Name  Age  \\\n",
       "0           0  Cristiano Ronaldo   32   \n",
       "1           1           L. Messi   30   \n",
       "2           2             Neymar   25   \n",
       "3           3          L. Suárez   30   \n",
       "4           4           M. Neuer   31   \n",
       "\n",
       "                                             Photo Nationality  \\\n",
       "0   https://cdn.sofifa.org/48/18/players/20801.png    Portugal   \n",
       "1  https://cdn.sofifa.org/48/18/players/158023.png   Argentina   \n",
       "2  https://cdn.sofifa.org/48/18/players/190871.png      Brazil   \n",
       "3  https://cdn.sofifa.org/48/18/players/176580.png     Uruguay   \n",
       "4  https://cdn.sofifa.org/48/18/players/167495.png     Germany   \n",
       "\n",
       "                                  Flag  Overall  Potential  \\\n",
       "0  https://cdn.sofifa.org/flags/38.png       94         94   \n",
       "1  https://cdn.sofifa.org/flags/52.png       93         93   \n",
       "2  https://cdn.sofifa.org/flags/54.png       92         94   \n",
       "3  https://cdn.sofifa.org/flags/60.png       92         92   \n",
       "4  https://cdn.sofifa.org/flags/21.png       92         92   \n",
       "\n",
       "                  Club                                   Club Logo  ...   \\\n",
       "0       Real Madrid CF  https://cdn.sofifa.org/24/18/teams/243.png  ...    \n",
       "1         FC Barcelona  https://cdn.sofifa.org/24/18/teams/241.png  ...    \n",
       "2  Paris Saint-Germain   https://cdn.sofifa.org/24/18/teams/73.png  ...    \n",
       "3         FC Barcelona  https://cdn.sofifa.org/24/18/teams/241.png  ...    \n",
       "4     FC Bayern Munich   https://cdn.sofifa.org/24/18/teams/21.png  ...    \n",
       "\n",
       "     RB   RCB   RCM   RDM    RF    RM    RS    RW   RWB    ST  \n",
       "0  61.0  53.0  82.0  62.0  91.0  89.0  92.0  91.0  66.0  92.0  \n",
       "1  57.0  45.0  84.0  59.0  92.0  90.0  88.0  91.0  62.0  88.0  \n",
       "2  59.0  46.0  79.0  59.0  88.0  87.0  84.0  89.0  64.0  84.0  \n",
       "3  64.0  58.0  80.0  65.0  88.0  85.0  88.0  87.0  68.0  88.0  \n",
       "4   NaN   NaN   NaN   NaN   NaN   NaN   NaN   NaN   NaN   NaN  \n",
       "\n",
       "[5 rows x 75 columns]"
      ]
     },
     "execution_count": 5,
     "metadata": {},
     "output_type": "execute_result"
    }
   ],
   "source": [
    "# load dataset\n",
    "fifa_df = pd.read_csv('CompleteDataset.csv')\n",
    "fifa_df.head()"
   ]
  },
  {
   "cell_type": "code",
   "execution_count": 7,
   "metadata": {},
   "outputs": [
    {
     "data": {
      "text/html": [
       "<div>\n",
       "<style>\n",
       "    .dataframe thead tr:only-child th {\n",
       "        text-align: right;\n",
       "    }\n",
       "\n",
       "    .dataframe thead th {\n",
       "        text-align: left;\n",
       "    }\n",
       "\n",
       "    .dataframe tbody tr th {\n",
       "        vertical-align: top;\n",
       "    }\n",
       "</style>\n",
       "<table border=\"1\" class=\"dataframe\">\n",
       "  <thead>\n",
       "    <tr style=\"text-align: right;\">\n",
       "      <th></th>\n",
       "      <th>Unnamed: 0</th>\n",
       "      <th>Age</th>\n",
       "      <th>Overall</th>\n",
       "      <th>Potential</th>\n",
       "      <th>Special</th>\n",
       "      <th>CAM</th>\n",
       "      <th>CB</th>\n",
       "      <th>CDM</th>\n",
       "      <th>CF</th>\n",
       "      <th>CM</th>\n",
       "      <th>...</th>\n",
       "      <th>RB</th>\n",
       "      <th>RCB</th>\n",
       "      <th>RCM</th>\n",
       "      <th>RDM</th>\n",
       "      <th>RF</th>\n",
       "      <th>RM</th>\n",
       "      <th>RS</th>\n",
       "      <th>RW</th>\n",
       "      <th>RWB</th>\n",
       "      <th>ST</th>\n",
       "    </tr>\n",
       "  </thead>\n",
       "  <tbody>\n",
       "    <tr>\n",
       "      <th>count</th>\n",
       "      <td>17981.000000</td>\n",
       "      <td>17981.000000</td>\n",
       "      <td>17981.000000</td>\n",
       "      <td>17981.000000</td>\n",
       "      <td>17981.000000</td>\n",
       "      <td>15952.000000</td>\n",
       "      <td>15952.000000</td>\n",
       "      <td>15952.000000</td>\n",
       "      <td>15952.000000</td>\n",
       "      <td>15952.000000</td>\n",
       "      <td>...</td>\n",
       "      <td>15952.000000</td>\n",
       "      <td>15952.000000</td>\n",
       "      <td>15952.000000</td>\n",
       "      <td>15952.000000</td>\n",
       "      <td>15952.000000</td>\n",
       "      <td>15952.000000</td>\n",
       "      <td>15952.000000</td>\n",
       "      <td>15952.000000</td>\n",
       "      <td>15952.000000</td>\n",
       "      <td>15952.000000</td>\n",
       "    </tr>\n",
       "    <tr>\n",
       "      <th>mean</th>\n",
       "      <td>8990.000000</td>\n",
       "      <td>25.144541</td>\n",
       "      <td>66.247984</td>\n",
       "      <td>71.190813</td>\n",
       "      <td>1594.095100</td>\n",
       "      <td>59.251755</td>\n",
       "      <td>55.550464</td>\n",
       "      <td>56.865283</td>\n",
       "      <td>59.030028</td>\n",
       "      <td>58.506833</td>\n",
       "      <td>...</td>\n",
       "      <td>56.979689</td>\n",
       "      <td>55.550464</td>\n",
       "      <td>58.506833</td>\n",
       "      <td>56.865283</td>\n",
       "      <td>59.030028</td>\n",
       "      <td>60.057736</td>\n",
       "      <td>58.204050</td>\n",
       "      <td>59.359265</td>\n",
       "      <td>57.698721</td>\n",
       "      <td>58.204050</td>\n",
       "    </tr>\n",
       "    <tr>\n",
       "      <th>std</th>\n",
       "      <td>5190.811931</td>\n",
       "      <td>4.614272</td>\n",
       "      <td>6.987965</td>\n",
       "      <td>6.102199</td>\n",
       "      <td>272.151435</td>\n",
       "      <td>9.880164</td>\n",
       "      <td>12.192579</td>\n",
       "      <td>10.310178</td>\n",
       "      <td>9.926988</td>\n",
       "      <td>8.888040</td>\n",
       "      <td>...</td>\n",
       "      <td>9.791627</td>\n",
       "      <td>12.192579</td>\n",
       "      <td>8.888040</td>\n",
       "      <td>10.310178</td>\n",
       "      <td>9.926988</td>\n",
       "      <td>9.349180</td>\n",
       "      <td>9.181392</td>\n",
       "      <td>9.978084</td>\n",
       "      <td>9.142825</td>\n",
       "      <td>9.181392</td>\n",
       "    </tr>\n",
       "    <tr>\n",
       "      <th>min</th>\n",
       "      <td>0.000000</td>\n",
       "      <td>16.000000</td>\n",
       "      <td>46.000000</td>\n",
       "      <td>46.000000</td>\n",
       "      <td>728.000000</td>\n",
       "      <td>27.000000</td>\n",
       "      <td>25.000000</td>\n",
       "      <td>26.000000</td>\n",
       "      <td>27.000000</td>\n",
       "      <td>30.000000</td>\n",
       "      <td>...</td>\n",
       "      <td>30.000000</td>\n",
       "      <td>25.000000</td>\n",
       "      <td>30.000000</td>\n",
       "      <td>26.000000</td>\n",
       "      <td>27.000000</td>\n",
       "      <td>28.000000</td>\n",
       "      <td>31.000000</td>\n",
       "      <td>26.000000</td>\n",
       "      <td>31.000000</td>\n",
       "      <td>31.000000</td>\n",
       "    </tr>\n",
       "    <tr>\n",
       "      <th>25%</th>\n",
       "      <td>4495.000000</td>\n",
       "      <td>21.000000</td>\n",
       "      <td>62.000000</td>\n",
       "      <td>67.000000</td>\n",
       "      <td>1449.000000</td>\n",
       "      <td>53.000000</td>\n",
       "      <td>45.000000</td>\n",
       "      <td>49.000000</td>\n",
       "      <td>53.000000</td>\n",
       "      <td>53.000000</td>\n",
       "      <td>...</td>\n",
       "      <td>50.000000</td>\n",
       "      <td>45.000000</td>\n",
       "      <td>53.000000</td>\n",
       "      <td>49.000000</td>\n",
       "      <td>53.000000</td>\n",
       "      <td>54.000000</td>\n",
       "      <td>52.000000</td>\n",
       "      <td>53.000000</td>\n",
       "      <td>51.000000</td>\n",
       "      <td>52.000000</td>\n",
       "    </tr>\n",
       "    <tr>\n",
       "      <th>50%</th>\n",
       "      <td>8990.000000</td>\n",
       "      <td>25.000000</td>\n",
       "      <td>66.000000</td>\n",
       "      <td>71.000000</td>\n",
       "      <td>1633.000000</td>\n",
       "      <td>60.000000</td>\n",
       "      <td>57.000000</td>\n",
       "      <td>58.000000</td>\n",
       "      <td>60.000000</td>\n",
       "      <td>59.000000</td>\n",
       "      <td>...</td>\n",
       "      <td>58.000000</td>\n",
       "      <td>57.000000</td>\n",
       "      <td>59.000000</td>\n",
       "      <td>58.000000</td>\n",
       "      <td>60.000000</td>\n",
       "      <td>61.000000</td>\n",
       "      <td>59.000000</td>\n",
       "      <td>60.000000</td>\n",
       "      <td>58.000000</td>\n",
       "      <td>59.000000</td>\n",
       "    </tr>\n",
       "    <tr>\n",
       "      <th>75%</th>\n",
       "      <td>13485.000000</td>\n",
       "      <td>28.000000</td>\n",
       "      <td>71.000000</td>\n",
       "      <td>75.000000</td>\n",
       "      <td>1786.000000</td>\n",
       "      <td>66.000000</td>\n",
       "      <td>65.000000</td>\n",
       "      <td>65.000000</td>\n",
       "      <td>66.000000</td>\n",
       "      <td>65.000000</td>\n",
       "      <td>...</td>\n",
       "      <td>64.000000</td>\n",
       "      <td>65.000000</td>\n",
       "      <td>65.000000</td>\n",
       "      <td>65.000000</td>\n",
       "      <td>66.000000</td>\n",
       "      <td>67.000000</td>\n",
       "      <td>65.000000</td>\n",
       "      <td>66.000000</td>\n",
       "      <td>64.000000</td>\n",
       "      <td>65.000000</td>\n",
       "    </tr>\n",
       "    <tr>\n",
       "      <th>max</th>\n",
       "      <td>17980.000000</td>\n",
       "      <td>47.000000</td>\n",
       "      <td>94.000000</td>\n",
       "      <td>94.000000</td>\n",
       "      <td>2291.000000</td>\n",
       "      <td>92.000000</td>\n",
       "      <td>87.000000</td>\n",
       "      <td>85.000000</td>\n",
       "      <td>92.000000</td>\n",
       "      <td>87.000000</td>\n",
       "      <td>...</td>\n",
       "      <td>84.000000</td>\n",
       "      <td>87.000000</td>\n",
       "      <td>87.000000</td>\n",
       "      <td>85.000000</td>\n",
       "      <td>92.000000</td>\n",
       "      <td>90.000000</td>\n",
       "      <td>92.000000</td>\n",
       "      <td>91.000000</td>\n",
       "      <td>84.000000</td>\n",
       "      <td>92.000000</td>\n",
       "    </tr>\n",
       "  </tbody>\n",
       "</table>\n",
       "<p>8 rows × 32 columns</p>\n",
       "</div>"
      ],
      "text/plain": [
       "         Unnamed: 0           Age       Overall     Potential       Special  \\\n",
       "count  17981.000000  17981.000000  17981.000000  17981.000000  17981.000000   \n",
       "mean    8990.000000     25.144541     66.247984     71.190813   1594.095100   \n",
       "std     5190.811931      4.614272      6.987965      6.102199    272.151435   \n",
       "min        0.000000     16.000000     46.000000     46.000000    728.000000   \n",
       "25%     4495.000000     21.000000     62.000000     67.000000   1449.000000   \n",
       "50%     8990.000000     25.000000     66.000000     71.000000   1633.000000   \n",
       "75%    13485.000000     28.000000     71.000000     75.000000   1786.000000   \n",
       "max    17980.000000     47.000000     94.000000     94.000000   2291.000000   \n",
       "\n",
       "                CAM            CB           CDM            CF            CM  \\\n",
       "count  15952.000000  15952.000000  15952.000000  15952.000000  15952.000000   \n",
       "mean      59.251755     55.550464     56.865283     59.030028     58.506833   \n",
       "std        9.880164     12.192579     10.310178      9.926988      8.888040   \n",
       "min       27.000000     25.000000     26.000000     27.000000     30.000000   \n",
       "25%       53.000000     45.000000     49.000000     53.000000     53.000000   \n",
       "50%       60.000000     57.000000     58.000000     60.000000     59.000000   \n",
       "75%       66.000000     65.000000     65.000000     66.000000     65.000000   \n",
       "max       92.000000     87.000000     85.000000     92.000000     87.000000   \n",
       "\n",
       "           ...                 RB           RCB           RCM           RDM  \\\n",
       "count      ...       15952.000000  15952.000000  15952.000000  15952.000000   \n",
       "mean       ...          56.979689     55.550464     58.506833     56.865283   \n",
       "std        ...           9.791627     12.192579      8.888040     10.310178   \n",
       "min        ...          30.000000     25.000000     30.000000     26.000000   \n",
       "25%        ...          50.000000     45.000000     53.000000     49.000000   \n",
       "50%        ...          58.000000     57.000000     59.000000     58.000000   \n",
       "75%        ...          64.000000     65.000000     65.000000     65.000000   \n",
       "max        ...          84.000000     87.000000     87.000000     85.000000   \n",
       "\n",
       "                 RF            RM            RS            RW           RWB  \\\n",
       "count  15952.000000  15952.000000  15952.000000  15952.000000  15952.000000   \n",
       "mean      59.030028     60.057736     58.204050     59.359265     57.698721   \n",
       "std        9.926988      9.349180      9.181392      9.978084      9.142825   \n",
       "min       27.000000     28.000000     31.000000     26.000000     31.000000   \n",
       "25%       53.000000     54.000000     52.000000     53.000000     51.000000   \n",
       "50%       60.000000     61.000000     59.000000     60.000000     58.000000   \n",
       "75%       66.000000     67.000000     65.000000     66.000000     64.000000   \n",
       "max       92.000000     90.000000     92.000000     91.000000     84.000000   \n",
       "\n",
       "                 ST  \n",
       "count  15952.000000  \n",
       "mean      58.204050  \n",
       "std        9.181392  \n",
       "min       31.000000  \n",
       "25%       52.000000  \n",
       "50%       59.000000  \n",
       "75%       65.000000  \n",
       "max       92.000000  \n",
       "\n",
       "[8 rows x 32 columns]"
      ]
     },
     "execution_count": 7,
     "metadata": {},
     "output_type": "execute_result"
    }
   ],
   "source": [
    "fifa_df.describe()"
   ]
  },
  {
   "cell_type": "markdown",
   "metadata": {},
   "source": [
    "There are 75 features present in the dataset; now looking at the different features present "
   ]
  },
  {
   "cell_type": "code",
   "execution_count": 8,
   "metadata": {},
   "outputs": [
    {
     "data": {
      "text/plain": [
       "Index(['Unnamed: 0', 'Name', 'Age', 'Photo', 'Nationality', 'Flag', 'Overall',\n",
       "       'Potential', 'Club', 'Club Logo', 'Value', 'Wage', 'Special',\n",
       "       'Acceleration', 'Aggression', 'Agility', 'Balance', 'Ball control',\n",
       "       'Composure', 'Crossing', 'Curve', 'Dribbling', 'Finishing',\n",
       "       'Free kick accuracy', 'GK diving', 'GK handling', 'GK kicking',\n",
       "       'GK positioning', 'GK reflexes', 'Heading accuracy', 'Interceptions',\n",
       "       'Jumping', 'Long passing', 'Long shots', 'Marking', 'Penalties',\n",
       "       'Positioning', 'Reactions', 'Short passing', 'Shot power',\n",
       "       'Sliding tackle', 'Sprint speed', 'Stamina', 'Standing tackle',\n",
       "       'Strength', 'Vision', 'Volleys', 'CAM', 'CB', 'CDM', 'CF', 'CM', 'ID',\n",
       "       'LAM', 'LB', 'LCB', 'LCM', 'LDM', 'LF', 'LM', 'LS', 'LW', 'LWB',\n",
       "       'Preferred Positions', 'RAM', 'RB', 'RCB', 'RCM', 'RDM', 'RF', 'RM',\n",
       "       'RS', 'RW', 'RWB', 'ST'],\n",
       "      dtype='object')"
      ]
     },
     "execution_count": 8,
     "metadata": {},
     "output_type": "execute_result"
    }
   ],
   "source": [
    "fifa_df.columns #list all the columns "
   ]
  },
  {
   "cell_type": "markdown",
   "metadata": {},
   "source": [
    "Being a big football fan and observer, I have played the FIFA game when I was young and the data collected for this game is very near to real figures. So I asked myself the following 5 questions which should be answerable by analyzing the complete dataset. \n",
    "1.\tWhat is the age distribution of the players? \n",
    "2.\tFrom what countries the majority players come from\t? \n",
    "3.\tWhat are the most preferred positions? \n",
    "4.\tWhat are the top 10 clubs with highest average player potential? \n",
    "5.\tCorrelation between Age, Overall, Potential, Value and Wage\n"
   ]
  },
  {
   "cell_type": "markdown",
   "metadata": {},
   "source": [
    "Looking at the dataset with respect to missing values and columns which can't be used for analysis "
   ]
  },
  {
   "cell_type": "code",
   "execution_count": 9,
   "metadata": {},
   "outputs": [
    {
     "data": {
      "text/plain": [
       "Unnamed: 0                0\n",
       "Name                      0\n",
       "Age                       0\n",
       "Photo                     0\n",
       "Nationality               0\n",
       "Flag                      0\n",
       "Overall                   0\n",
       "Potential                 0\n",
       "Club                    248\n",
       "Club Logo                 0\n",
       "Value                     0\n",
       "Wage                      0\n",
       "Special                   0\n",
       "Acceleration              0\n",
       "Aggression                0\n",
       "Agility                   0\n",
       "Balance                   0\n",
       "Ball control              0\n",
       "Composure                 0\n",
       "Crossing                  0\n",
       "Curve                     0\n",
       "Dribbling                 0\n",
       "Finishing                 0\n",
       "Free kick accuracy        0\n",
       "GK diving                 0\n",
       "GK handling               0\n",
       "GK kicking                0\n",
       "GK positioning            0\n",
       "GK reflexes               0\n",
       "Heading accuracy          0\n",
       "                       ... \n",
       "Vision                    0\n",
       "Volleys                   0\n",
       "CAM                    2029\n",
       "CB                     2029\n",
       "CDM                    2029\n",
       "CF                     2029\n",
       "CM                     2029\n",
       "ID                        0\n",
       "LAM                    2029\n",
       "LB                     2029\n",
       "LCB                    2029\n",
       "LCM                    2029\n",
       "LDM                    2029\n",
       "LF                     2029\n",
       "LM                     2029\n",
       "LS                     2029\n",
       "LW                     2029\n",
       "LWB                    2029\n",
       "Preferred Positions       0\n",
       "RAM                    2029\n",
       "RB                     2029\n",
       "RCB                    2029\n",
       "RCM                    2029\n",
       "RDM                    2029\n",
       "RF                     2029\n",
       "RM                     2029\n",
       "RS                     2029\n",
       "RW                     2029\n",
       "RWB                    2029\n",
       "ST                     2029\n",
       "Length: 75, dtype: int64"
      ]
     },
     "execution_count": 9,
     "metadata": {},
     "output_type": "execute_result"
    }
   ],
   "source": [
    "# about the missing values for each column\n",
    "fifa_df.isnull().sum()"
   ]
  },
  {
   "cell_type": "markdown",
   "metadata": {},
   "source": [
    "The figure 2029 refers to the number of Goal Keepers in the list. That's why for Goalkeepers we don't have ratings for other positions "
   ]
  },
  {
   "cell_type": "code",
   "execution_count": 10,
   "metadata": {},
   "outputs": [
    {
     "data": {
      "text/plain": [
       "Index(['Unnamed: 0', 'Name', 'Age', 'Photo', 'Nationality', 'Flag', 'Overall',\n",
       "       'Potential', 'Club Logo', 'Value', 'Wage', 'Special', 'Acceleration',\n",
       "       'Aggression', 'Agility', 'Balance', 'Ball control', 'Composure',\n",
       "       'Crossing', 'Curve', 'Dribbling', 'Finishing', 'Free kick accuracy',\n",
       "       'GK diving', 'GK handling', 'GK kicking', 'GK positioning',\n",
       "       'GK reflexes', 'Heading accuracy', 'Interceptions', 'Jumping',\n",
       "       'Long passing', 'Long shots', 'Marking', 'Penalties', 'Positioning',\n",
       "       'Reactions', 'Short passing', 'Shot power', 'Sliding tackle',\n",
       "       'Sprint speed', 'Stamina', 'Standing tackle', 'Strength', 'Vision',\n",
       "       'Volleys', 'ID', 'Preferred Positions'],\n",
       "      dtype='object')"
      ]
     },
     "execution_count": 10,
     "metadata": {},
     "output_type": "execute_result"
    }
   ],
   "source": [
    "# columns having no missing values \n",
    "fifa_df.columns[np.sum(fifa_df.isnull()) == 0 ]"
   ]
  },
  {
   "cell_type": "markdown",
   "metadata": {},
   "source": [
    "ID field is not to be used as the identifier. The first column is being used "
   ]
  },
  {
   "cell_type": "code",
   "execution_count": 12,
   "metadata": {},
   "outputs": [],
   "source": [
    "no_nulls = set(fifa_df.columns[np.sum(fifa_df.isnull()) == 0 ])\n",
    "# no_nulls"
   ]
  },
  {
   "cell_type": "code",
   "execution_count": 15,
   "metadata": {},
   "outputs": [
    {
     "data": {
      "text/plain": [
       "Index(['CAM', 'CB', 'CDM', 'CF', 'CM', 'LAM', 'LB', 'LCB', 'LCM', 'LDM', 'LF',\n",
       "       'LM', 'LS', 'LW', 'LWB', 'RAM', 'RB', 'RCB', 'RCM', 'RDM', 'RF', 'RM',\n",
       "       'RS', 'RW', 'RWB', 'ST'],\n",
       "      dtype='object')"
      ]
     },
     "execution_count": 15,
     "metadata": {},
     "output_type": "execute_result"
    }
   ],
   "source": [
    "# set of column names that have more than 10% if their values missing\n",
    "fifa_df.columns[np.sum(fifa_df.isnull())/fifa_df.shape[0] > 0.10]"
   ]
  },
  {
   "cell_type": "markdown",
   "metadata": {},
   "source": [
    "These columns refer to the missing values due to ratings of different positions for Goalkeepers. In this case since none of our questions will make use of those columns, there is no need to handle missing values further. They will be later removed from the data set"
   ]
  },
  {
   "cell_type": "code",
   "execution_count": 10,
   "metadata": {},
   "outputs": [
    {
     "name": "stdout",
     "output_type": "stream",
     "text": [
      "<class 'pandas.core.frame.DataFrame'>\n",
      "RangeIndex: 17981 entries, 0 to 17980\n",
      "Data columns (total 75 columns):\n",
      "Unnamed: 0             17981 non-null int64\n",
      "Name                   17981 non-null object\n",
      "Age                    17981 non-null int64\n",
      "Photo                  17981 non-null object\n",
      "Nationality            17981 non-null object\n",
      "Flag                   17981 non-null object\n",
      "Overall                17981 non-null int64\n",
      "Potential              17981 non-null int64\n",
      "Club                   17733 non-null object\n",
      "Club Logo              17981 non-null object\n",
      "Value                  17981 non-null object\n",
      "Wage                   17981 non-null object\n",
      "Special                17981 non-null int64\n",
      "Acceleration           17981 non-null object\n",
      "Aggression             17981 non-null object\n",
      "Agility                17981 non-null object\n",
      "Balance                17981 non-null object\n",
      "Ball control           17981 non-null object\n",
      "Composure              17981 non-null object\n",
      "Crossing               17981 non-null object\n",
      "Curve                  17981 non-null object\n",
      "Dribbling              17981 non-null object\n",
      "Finishing              17981 non-null object\n",
      "Free kick accuracy     17981 non-null object\n",
      "GK diving              17981 non-null object\n",
      "GK handling            17981 non-null object\n",
      "GK kicking             17981 non-null object\n",
      "GK positioning         17981 non-null object\n",
      "GK reflexes            17981 non-null object\n",
      "Heading accuracy       17981 non-null object\n",
      "Interceptions          17981 non-null object\n",
      "Jumping                17981 non-null object\n",
      "Long passing           17981 non-null object\n",
      "Long shots             17981 non-null object\n",
      "Marking                17981 non-null object\n",
      "Penalties              17981 non-null object\n",
      "Positioning            17981 non-null object\n",
      "Reactions              17981 non-null object\n",
      "Short passing          17981 non-null object\n",
      "Shot power             17981 non-null object\n",
      "Sliding tackle         17981 non-null object\n",
      "Sprint speed           17981 non-null object\n",
      "Stamina                17981 non-null object\n",
      "Standing tackle        17981 non-null object\n",
      "Strength               17981 non-null object\n",
      "Vision                 17981 non-null object\n",
      "Volleys                17981 non-null object\n",
      "CAM                    15952 non-null float64\n",
      "CB                     15952 non-null float64\n",
      "CDM                    15952 non-null float64\n",
      "CF                     15952 non-null float64\n",
      "CM                     15952 non-null float64\n",
      "ID                     17981 non-null int64\n",
      "LAM                    15952 non-null float64\n",
      "LB                     15952 non-null float64\n",
      "LCB                    15952 non-null float64\n",
      "LCM                    15952 non-null float64\n",
      "LDM                    15952 non-null float64\n",
      "LF                     15952 non-null float64\n",
      "LM                     15952 non-null float64\n",
      "LS                     15952 non-null float64\n",
      "LW                     15952 non-null float64\n",
      "LWB                    15952 non-null float64\n",
      "Preferred Positions    17981 non-null object\n",
      "RAM                    15952 non-null float64\n",
      "RB                     15952 non-null float64\n",
      "RCB                    15952 non-null float64\n",
      "RCM                    15952 non-null float64\n",
      "RDM                    15952 non-null float64\n",
      "RF                     15952 non-null float64\n",
      "RM                     15952 non-null float64\n",
      "RS                     15952 non-null float64\n",
      "RW                     15952 non-null float64\n",
      "RWB                    15952 non-null float64\n",
      "ST                     15952 non-null float64\n",
      "dtypes: float64(26), int64(6), object(43)\n",
      "memory usage: 10.3+ MB\n"
     ]
    }
   ],
   "source": [
    "fifa_df.info()"
   ]
  },
  {
   "cell_type": "markdown",
   "metadata": {},
   "source": [
    "While features like Age, Overall rating, Potential are of Integer type, we can see features like 'value' and 'wage' are of object types. "
   ]
  },
  {
   "cell_type": "code",
   "execution_count": 13,
   "metadata": {},
   "outputs": [
    {
     "data": {
      "text/plain": [
       "0    €95.5M\n",
       "1     €105M\n",
       "2     €123M\n",
       "3      €97M\n",
       "4      €61M\n",
       "Name: Value, dtype: object"
      ]
     },
     "execution_count": 13,
     "metadata": {},
     "output_type": "execute_result"
    }
   ],
   "source": [
    "fifa_df['Value'].head()"
   ]
  },
  {
   "cell_type": "code",
   "execution_count": 14,
   "metadata": {},
   "outputs": [
    {
     "data": {
      "text/plain": [
       "0    €565K\n",
       "1    €565K\n",
       "2    €280K\n",
       "3    €510K\n",
       "4    €230K\n",
       "Name: Wage, dtype: object"
      ]
     },
     "execution_count": 14,
     "metadata": {},
     "output_type": "execute_result"
    }
   ],
   "source": [
    "fifa_df['Wage'].head()"
   ]
  },
  {
   "cell_type": "markdown",
   "metadata": {},
   "source": [
    "# Question 1: What is the age distribution of the players? "
   ]
  },
  {
   "cell_type": "code",
   "execution_count": 15,
   "metadata": {},
   "outputs": [
    {
     "data": {
      "image/png": "[encoded data removed]",
      "text/plain": [
       "<matplotlib.figure.Figure at 0x1faf86d7da0>"
      ]
     },
     "metadata": {
      "needs_background": "light"
     },
     "output_type": "display_data"
    }
   ],
   "source": [
    "#the counts for each Club\n",
    "Age_vals = fifa_df['Age'].value_counts()\n",
    "\n",
    "# The below is a bar chart of the proportion \n",
    "\n",
    "(Age_vals/fifa_df.shape[0]).plot(kind=\"bar\");\n",
    "plt.title(\"What are the Ages present?\");"
   ]
  },
  {
   "cell_type": "markdown",
   "metadata": {},
   "source": [
    "# Question 2: From what countries the majority players come from?"
   ]
  },
  {
   "cell_type": "code",
   "execution_count": 16,
   "metadata": {},
   "outputs": [
    {
     "data": {
      "image/png": "[encoded data removed]",
      "text/plain": [
       "<matplotlib.figure.Figure at 0x1fa80805208>"
      ]
     },
     "metadata": {
      "needs_background": "light"
     },
     "output_type": "display_data"
    }
   ],
   "source": [
    "# the counts for each Club\n",
    "Country_vals = fifa_df['Nationality'].value_counts()\n",
    "\n",
    "# The below is a bar chart of the proportion \n",
    "(Country_vals[:10]/fifa_df.shape[0]).plot(kind=\"bar\");\n",
    "plt.title(\"What top 10 Nationalities are present?\");\n"
   ]
  },
  {
   "cell_type": "markdown",
   "metadata": {},
   "source": [
    "# Question 3: What are the most preferred positions?"
   ]
  },
  {
   "cell_type": "code",
   "execution_count": 17,
   "metadata": {},
   "outputs": [
    {
     "data": {
      "image/png": "[encoded data removed]",
      "text/plain": [
       "<matplotlib.figure.Figure at 0x1fa807ceb38>"
      ]
     },
     "metadata": {
      "needs_background": "light"
     },
     "output_type": "display_data"
    }
   ],
   "source": [
    "#the counts for each Club\n",
    "Pos_vals = fifa_df['Preferred Positions'].value_counts()\n",
    "\n",
    "# The below is a bar chart of the proportion \n",
    "(Pos_vals[:25]/fifa_df.shape[0]).plot(kind=\"bar\");\n",
    "plt.title(\"What top 25 Preferred Positions are present?\");"
   ]
  },
  {
   "cell_type": "code",
   "execution_count": null,
   "metadata": {},
   "outputs": [],
   "source": []
  },
  {
   "cell_type": "code",
   "execution_count": 18,
   "metadata": {},
   "outputs": [
    {
     "data": {
      "image/png": "[encoded data removed]",
      "text/plain": [
       "<matplotlib.figure.Figure at 0x1fa80da95c0>"
      ]
     },
     "metadata": {
      "needs_background": "light"
     },
     "output_type": "display_data"
    }
   ],
   "source": [
    "#the counts for each Club\n",
    "Club_vals = fifa_df['Club'].value_counts()\n",
    "\n",
    "# The below is a bar chart of the proportion \n",
    "\n",
    "(Club_vals[:25]/fifa_df.shape[0]).plot(kind=\"bar\");\n",
    "plt.title(\"What top 25 Clubs are present?\");"
   ]
  },
  {
   "cell_type": "code",
   "execution_count": null,
   "metadata": {},
   "outputs": [],
   "source": []
  },
  {
   "cell_type": "markdown",
   "metadata": {},
   "source": [
    "# Question 4: Top 10 clubs with highest average player potential"
   ]
  },
  {
   "cell_type": "code",
   "execution_count": 19,
   "metadata": {},
   "outputs": [
    {
     "data": {
      "image/png": "[encoded data removed]",
      "text/plain": [
       "<matplotlib.figure.Figure at 0x1fa80e68128>"
      ]
     },
     "metadata": {
      "needs_background": "light"
     },
     "output_type": "display_data"
    }
   ],
   "source": [
    "# Find out the top 20 clubs with the highest average player potential\n",
    "fifa_df.groupby(\"Club\")[\"Potential\"].mean().sort_values(ascending=False).head(20).plot(kind=\"bar\");\n",
    "plt.title(\"Top 20 clubs with the highest average player potential\");"
   ]
  },
  {
   "cell_type": "markdown",
   "metadata": {},
   "source": [
    "# Question 5: Correlation between Player’s Age, Overall, Potential, Value and Wage"
   ]
  },
  {
   "cell_type": "markdown",
   "metadata": {},
   "source": [
    "We need first to remove the unused columns for the remaining analysis. \n",
    "Then we'll need to have the onject-type columns, Value and Wage converted into numeric values to enable computation"
   ]
  },
  {
   "cell_type": "code",
   "execution_count": 21,
   "metadata": {},
   "outputs": [],
   "source": [
    "# Drop unused columns for the analysis\n",
    "columns_to_drop = ['Unnamed: 0', 'Photo', 'Flag', 'Club Logo', 'Special',\n",
    "       'Acceleration', 'Aggression', 'Agility', 'Balance', 'Ball control',\n",
    "       'Composure', 'Crossing', 'Curve', 'Dribbling', 'Finishing',\n",
    "       'Free kick accuracy', 'GK diving', 'GK handling', 'GK kicking',\n",
    "       'GK positioning', 'GK reflexes', 'Heading accuracy', 'Interceptions',\n",
    "       'Jumping', 'Long passing', 'Long shots', 'Marking', 'Penalties',\n",
    "       'Positioning', 'Reactions', 'Short passing', 'Shot power',\n",
    "       'Sliding tackle', 'Sprint speed', 'Standing tackle',\n",
    "       'Strength', 'Vision', 'Volleys', 'CAM', 'CB', 'CDM', 'CF', 'CM', 'ID',\n",
    "       'LAM', 'LB', 'LCB', 'LCM', 'LDM', 'LF', 'LM', 'LS', 'LW', 'LWB','RAM', 'RB', 'RCB', 'RCM', 'RDM', 'RF', 'RM',\n",
    "       'RS', 'RW', 'RWB', 'ST']\n",
    "\n",
    "fifa_df.drop(columns_to_drop, axis=1, inplace=True)"
   ]
  },
  {
   "cell_type": "code",
   "execution_count": 22,
   "metadata": {},
   "outputs": [
    {
     "data": {
      "text/html": [
       "<div>\n",
       "<style>\n",
       "    .dataframe thead tr:only-child th {\n",
       "        text-align: right;\n",
       "    }\n",
       "\n",
       "    .dataframe thead th {\n",
       "        text-align: left;\n",
       "    }\n",
       "\n",
       "    .dataframe tbody tr th {\n",
       "        vertical-align: top;\n",
       "    }\n",
       "</style>\n",
       "<table border=\"1\" class=\"dataframe\">\n",
       "  <thead>\n",
       "    <tr style=\"text-align: right;\">\n",
       "      <th></th>\n",
       "      <th>Name</th>\n",
       "      <th>Age</th>\n",
       "      <th>Nationality</th>\n",
       "      <th>Overall</th>\n",
       "      <th>Potential</th>\n",
       "      <th>Club</th>\n",
       "      <th>Value</th>\n",
       "      <th>Wage</th>\n",
       "      <th>Stamina</th>\n",
       "      <th>Preferred Positions</th>\n",
       "    </tr>\n",
       "  </thead>\n",
       "  <tbody>\n",
       "    <tr>\n",
       "      <th>0</th>\n",
       "      <td>Cristiano Ronaldo</td>\n",
       "      <td>32</td>\n",
       "      <td>Portugal</td>\n",
       "      <td>94</td>\n",
       "      <td>94</td>\n",
       "      <td>Real Madrid CF</td>\n",
       "      <td>€95.5M</td>\n",
       "      <td>€565K</td>\n",
       "      <td>92</td>\n",
       "      <td>ST LW</td>\n",
       "    </tr>\n",
       "    <tr>\n",
       "      <th>1</th>\n",
       "      <td>L. Messi</td>\n",
       "      <td>30</td>\n",
       "      <td>Argentina</td>\n",
       "      <td>93</td>\n",
       "      <td>93</td>\n",
       "      <td>FC Barcelona</td>\n",
       "      <td>€105M</td>\n",
       "      <td>€565K</td>\n",
       "      <td>73</td>\n",
       "      <td>RW</td>\n",
       "    </tr>\n",
       "    <tr>\n",
       "      <th>2</th>\n",
       "      <td>Neymar</td>\n",
       "      <td>25</td>\n",
       "      <td>Brazil</td>\n",
       "      <td>92</td>\n",
       "      <td>94</td>\n",
       "      <td>Paris Saint-Germain</td>\n",
       "      <td>€123M</td>\n",
       "      <td>€280K</td>\n",
       "      <td>78</td>\n",
       "      <td>LW</td>\n",
       "    </tr>\n",
       "    <tr>\n",
       "      <th>3</th>\n",
       "      <td>L. Suárez</td>\n",
       "      <td>30</td>\n",
       "      <td>Uruguay</td>\n",
       "      <td>92</td>\n",
       "      <td>92</td>\n",
       "      <td>FC Barcelona</td>\n",
       "      <td>€97M</td>\n",
       "      <td>€510K</td>\n",
       "      <td>89</td>\n",
       "      <td>ST</td>\n",
       "    </tr>\n",
       "    <tr>\n",
       "      <th>4</th>\n",
       "      <td>M. Neuer</td>\n",
       "      <td>31</td>\n",
       "      <td>Germany</td>\n",
       "      <td>92</td>\n",
       "      <td>92</td>\n",
       "      <td>FC Bayern Munich</td>\n",
       "      <td>€61M</td>\n",
       "      <td>€230K</td>\n",
       "      <td>44</td>\n",
       "      <td>GK</td>\n",
       "    </tr>\n",
       "  </tbody>\n",
       "</table>\n",
       "</div>"
      ],
      "text/plain": [
       "                Name  Age Nationality  Overall  Potential  \\\n",
       "0  Cristiano Ronaldo   32    Portugal       94         94   \n",
       "1           L. Messi   30   Argentina       93         93   \n",
       "2             Neymar   25      Brazil       92         94   \n",
       "3          L. Suárez   30     Uruguay       92         92   \n",
       "4           M. Neuer   31     Germany       92         92   \n",
       "\n",
       "                  Club   Value   Wage Stamina Preferred Positions  \n",
       "0       Real Madrid CF  €95.5M  €565K      92              ST LW   \n",
       "1         FC Barcelona   €105M  €565K      73                 RW   \n",
       "2  Paris Saint-Germain   €123M  €280K      78                 LW   \n",
       "3         FC Barcelona    €97M  €510K      89                 ST   \n",
       "4     FC Bayern Munich    €61M  €230K      44                 GK   "
      ]
     },
     "execution_count": 22,
     "metadata": {},
     "output_type": "execute_result"
    }
   ],
   "source": [
    "fifa_df.head()"
   ]
  },
  {
   "cell_type": "code",
   "execution_count": 23,
   "metadata": {},
   "outputs": [
    {
     "data": {
      "text/html": [
       "<div>\n",
       "<style>\n",
       "    .dataframe thead tr:only-child th {\n",
       "        text-align: right;\n",
       "    }\n",
       "\n",
       "    .dataframe thead th {\n",
       "        text-align: left;\n",
       "    }\n",
       "\n",
       "    .dataframe tbody tr th {\n",
       "        vertical-align: top;\n",
       "    }\n",
       "</style>\n",
       "<table border=\"1\" class=\"dataframe\">\n",
       "  <thead>\n",
       "    <tr style=\"text-align: right;\">\n",
       "      <th></th>\n",
       "      <th>Age</th>\n",
       "      <th>Overall</th>\n",
       "      <th>Potential</th>\n",
       "    </tr>\n",
       "  </thead>\n",
       "  <tbody>\n",
       "    <tr>\n",
       "      <th>count</th>\n",
       "      <td>17981.000000</td>\n",
       "      <td>17981.000000</td>\n",
       "      <td>17981.000000</td>\n",
       "    </tr>\n",
       "    <tr>\n",
       "      <th>mean</th>\n",
       "      <td>25.144541</td>\n",
       "      <td>66.247984</td>\n",
       "      <td>71.190813</td>\n",
       "    </tr>\n",
       "    <tr>\n",
       "      <th>std</th>\n",
       "      <td>4.614272</td>\n",
       "      <td>6.987965</td>\n",
       "      <td>6.102199</td>\n",
       "    </tr>\n",
       "    <tr>\n",
       "      <th>min</th>\n",
       "      <td>16.000000</td>\n",
       "      <td>46.000000</td>\n",
       "      <td>46.000000</td>\n",
       "    </tr>\n",
       "    <tr>\n",
       "      <th>25%</th>\n",
       "      <td>21.000000</td>\n",
       "      <td>62.000000</td>\n",
       "      <td>67.000000</td>\n",
       "    </tr>\n",
       "    <tr>\n",
       "      <th>50%</th>\n",
       "      <td>25.000000</td>\n",
       "      <td>66.000000</td>\n",
       "      <td>71.000000</td>\n",
       "    </tr>\n",
       "    <tr>\n",
       "      <th>75%</th>\n",
       "      <td>28.000000</td>\n",
       "      <td>71.000000</td>\n",
       "      <td>75.000000</td>\n",
       "    </tr>\n",
       "    <tr>\n",
       "      <th>max</th>\n",
       "      <td>47.000000</td>\n",
       "      <td>94.000000</td>\n",
       "      <td>94.000000</td>\n",
       "    </tr>\n",
       "  </tbody>\n",
       "</table>\n",
       "</div>"
      ],
      "text/plain": [
       "                Age       Overall     Potential\n",
       "count  17981.000000  17981.000000  17981.000000\n",
       "mean      25.144541     66.247984     71.190813\n",
       "std        4.614272      6.987965      6.102199\n",
       "min       16.000000     46.000000     46.000000\n",
       "25%       21.000000     62.000000     67.000000\n",
       "50%       25.000000     66.000000     71.000000\n",
       "75%       28.000000     71.000000     75.000000\n",
       "max       47.000000     94.000000     94.000000"
      ]
     },
     "execution_count": 23,
     "metadata": {},
     "output_type": "execute_result"
    }
   ],
   "source": [
    "fifa_df.describe()"
   ]
  },
  {
   "cell_type": "code",
   "execution_count": 24,
   "metadata": {},
   "outputs": [],
   "source": [
    "# Convert value/wage string to number\n",
    "# a function to convert Wage and Value of a player to a number\n",
    "def str2number(amt):\n",
    "    \"\"\"\n",
    "    This function convert amount string to float \n",
    "    \n",
    "    Parameter:\n",
    "    amount(str): Amount string with M & K as Abbreviation for Million and Thousands\n",
    "    \n",
    "    Returns:\n",
    "    float: A float number represents the numerical value of the input parameter amount(str)\n",
    "    \"\"\"\n",
    "    if amt[-1] == 'M':\n",
    "        return float(amt[1:-1])*1000000\n",
    "    elif amt[-1] == 'K':\n",
    "        return float(amt[1:-1])*1000\n",
    "    else:\n",
    "        return float(amt[1:])"
   ]
  },
  {
   "cell_type": "code",
   "execution_count": 25,
   "metadata": {},
   "outputs": [],
   "source": [
    "# Convert value, wage to number\n",
    "fifa_df['Value_Million'] = fifa_df['Value'].apply(lambda x: str2number(x) / 1000000)\n",
    "fifa_df['Wage_Thousand'] = fifa_df['Wage'].apply(lambda x: str2number(x) / 1000)\n",
    "\n",
    "# Drop the original value & wage columns\n",
    "fifa_df.drop(['Value', 'Wage'], axis=1, inplace=True)"
   ]
  },
  {
   "cell_type": "code",
   "execution_count": 26,
   "metadata": {},
   "outputs": [
    {
     "data": {
      "text/html": [
       "<div>\n",
       "<style>\n",
       "    .dataframe thead tr:only-child th {\n",
       "        text-align: right;\n",
       "    }\n",
       "\n",
       "    .dataframe thead th {\n",
       "        text-align: left;\n",
       "    }\n",
       "\n",
       "    .dataframe tbody tr th {\n",
       "        vertical-align: top;\n",
       "    }\n",
       "</style>\n",
       "<table border=\"1\" class=\"dataframe\">\n",
       "  <thead>\n",
       "    <tr style=\"text-align: right;\">\n",
       "      <th></th>\n",
       "      <th>Name</th>\n",
       "      <th>Age</th>\n",
       "      <th>Nationality</th>\n",
       "      <th>Overall</th>\n",
       "      <th>Potential</th>\n",
       "      <th>Club</th>\n",
       "      <th>Stamina</th>\n",
       "      <th>Preferred Positions</th>\n",
       "      <th>Value_Million</th>\n",
       "      <th>Wage_Thousand</th>\n",
       "    </tr>\n",
       "  </thead>\n",
       "  <tbody>\n",
       "    <tr>\n",
       "      <th>0</th>\n",
       "      <td>Cristiano Ronaldo</td>\n",
       "      <td>32</td>\n",
       "      <td>Portugal</td>\n",
       "      <td>94</td>\n",
       "      <td>94</td>\n",
       "      <td>Real Madrid CF</td>\n",
       "      <td>92</td>\n",
       "      <td>ST LW</td>\n",
       "      <td>95.5</td>\n",
       "      <td>565.0</td>\n",
       "    </tr>\n",
       "    <tr>\n",
       "      <th>1</th>\n",
       "      <td>L. Messi</td>\n",
       "      <td>30</td>\n",
       "      <td>Argentina</td>\n",
       "      <td>93</td>\n",
       "      <td>93</td>\n",
       "      <td>FC Barcelona</td>\n",
       "      <td>73</td>\n",
       "      <td>RW</td>\n",
       "      <td>105.0</td>\n",
       "      <td>565.0</td>\n",
       "    </tr>\n",
       "    <tr>\n",
       "      <th>2</th>\n",
       "      <td>Neymar</td>\n",
       "      <td>25</td>\n",
       "      <td>Brazil</td>\n",
       "      <td>92</td>\n",
       "      <td>94</td>\n",
       "      <td>Paris Saint-Germain</td>\n",
       "      <td>78</td>\n",
       "      <td>LW</td>\n",
       "      <td>123.0</td>\n",
       "      <td>280.0</td>\n",
       "    </tr>\n",
       "    <tr>\n",
       "      <th>3</th>\n",
       "      <td>L. Suárez</td>\n",
       "      <td>30</td>\n",
       "      <td>Uruguay</td>\n",
       "      <td>92</td>\n",
       "      <td>92</td>\n",
       "      <td>FC Barcelona</td>\n",
       "      <td>89</td>\n",
       "      <td>ST</td>\n",
       "      <td>97.0</td>\n",
       "      <td>510.0</td>\n",
       "    </tr>\n",
       "    <tr>\n",
       "      <th>4</th>\n",
       "      <td>M. Neuer</td>\n",
       "      <td>31</td>\n",
       "      <td>Germany</td>\n",
       "      <td>92</td>\n",
       "      <td>92</td>\n",
       "      <td>FC Bayern Munich</td>\n",
       "      <td>44</td>\n",
       "      <td>GK</td>\n",
       "      <td>61.0</td>\n",
       "      <td>230.0</td>\n",
       "    </tr>\n",
       "  </tbody>\n",
       "</table>\n",
       "</div>"
      ],
      "text/plain": [
       "                Name  Age Nationality  Overall  Potential  \\\n",
       "0  Cristiano Ronaldo   32    Portugal       94         94   \n",
       "1           L. Messi   30   Argentina       93         93   \n",
       "2             Neymar   25      Brazil       92         94   \n",
       "3          L. Suárez   30     Uruguay       92         92   \n",
       "4           M. Neuer   31     Germany       92         92   \n",
       "\n",
       "                  Club Stamina Preferred Positions  Value_Million  \\\n",
       "0       Real Madrid CF      92              ST LW            95.5   \n",
       "1         FC Barcelona      73                 RW           105.0   \n",
       "2  Paris Saint-Germain      78                 LW           123.0   \n",
       "3         FC Barcelona      89                 ST            97.0   \n",
       "4     FC Bayern Munich      44                 GK            61.0   \n",
       "\n",
       "   Wage_Thousand  \n",
       "0          565.0  \n",
       "1          565.0  \n",
       "2          280.0  \n",
       "3          510.0  \n",
       "4          230.0  "
      ]
     },
     "execution_count": 26,
     "metadata": {},
     "output_type": "execute_result"
    }
   ],
   "source": [
    "fifa_df.head()"
   ]
  },
  {
   "cell_type": "markdown",
   "metadata": {},
   "source": [
    "The above shows that we now have the numeric value of the player value and wage of each player\n"
   ]
  },
  {
   "cell_type": "code",
   "execution_count": 27,
   "metadata": {},
   "outputs": [],
   "source": [
    "#Correlation between Age, Overall, Potential, Value and Wage\n",
    "corr_df = fifa_df[['Name', 'Age', 'Overall', 'Potential', 'Value_Million', 'Wage_Thousand']]"
   ]
  },
  {
   "cell_type": "code",
   "execution_count": 28,
   "metadata": {},
   "outputs": [
    {
     "data": {
      "text/plain": [
       "<matplotlib.axes._subplots.AxesSubplot at 0x1fafddf54a8>"
      ]
     },
     "execution_count": 28,
     "metadata": {},
     "output_type": "execute_result"
    },
    {
     "data": {
      "image/png": "[encoded data removed]",
      "text/plain": [
       "<matplotlib.figure.Figure at 0x1fafddf5358>"
      ]
     },
     "metadata": {
      "needs_background": "light"
     },
     "output_type": "display_data"
    }
   ],
   "source": [
    "# print the heatmap showing the correlations \n",
    "colormap = plt.cm.inferno\n",
    "plt.figure(figsize=(16,12))\n",
    "plt.title('Correlation between Age, Overall, Potential, Value and Wage', y=1.05, size=15)\n",
    "sns.heatmap(corr_df.corr(),linewidths=0.1,vmax=1.0, \n",
    "            square=True, cmap=colormap, linecolor='white', annot=True)"
   ]
  },
  {
   "cell_type": "markdown",
   "metadata": {},
   "source": [
    "We can quickly note that there is a positive correlation between overall rating of a player and his market value and his wage. It is obvious also the higher the market value, the higher the wage of the player."
   ]
  },
  {
   "cell_type": "code",
   "execution_count": null,
   "metadata": {},
   "outputs": [],
   "source": []
  }
 ],
 "metadata": {
  "kernelspec": {
   "display_name": "Python 3",
   "language": "python",
   "name": "python3"
  },
  "language_info": {
   "codemirror_mode": {
    "name": "ipython",
    "version": 3
   },
   "file_extension": ".py",
   "mimetype": "text/x-python",
   "name": "python",
   "nbconvert_exporter": "python",
   "pygments_lexer": "ipython3",
   "version": "3.6.3"
  }
 },
 "nbformat": 4,
 "nbformat_minor": 2
}
